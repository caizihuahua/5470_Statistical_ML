{
 "cells": [
  {
   "cell_type": "code",
   "execution_count": 1,
   "metadata": {},
   "outputs": [],
   "source": [
    "import warnings\n",
    "import pandas as pd\n",
    "import numpy as np\n",
    "from sklearn.pipeline import make_pipeline\n",
    "from sklearn.preprocessing import StandardScaler\n",
    "from sklearn.cross_decomposition import PLSRegression\n",
    "from tqdm import tqdm\n",
    "import matplotlib.pyplot as plt\n",
    "\n",
    "warnings.filterwarnings('ignore')\n",
    "path = '../GKX/'\n"
   ]
  },
  {
   "cell_type": "code",
   "execution_count": 2,
   "metadata": {},
   "outputs": [],
   "source": [
    "\n",
    "### Data preparation\n",
    "## Load 94 firm characteristics dataset\n",
    "data_ch = pd.read_csv(path+'GKX_20201231.csv')\n",
    "data_ch['DATE'] = pd.to_datetime(data_ch['DATE'], format='%Y%m%d') + pd.offsets.MonthEnd(0)\n",
    "data_ch = data_ch[(data_ch['DATE'] >= '1957-01-31') & (data_ch['DATE'] <= '2016-12-31')]\n",
    "cols = data_ch.columns.tolist()\n",
    "cols_new = [x for x in cols if x not in ['permno', 'prc', 'SHROUT', 'mve0']]\n",
    "data_ch = data_ch[cols_new]\n",
    "\n",
    "\n",
    "# Construct dummy variables\n",
    "# Remove the samples with missing 'sic2'\n",
    "data_ch  = data_ch.dropna(subset=['sic2']).reset_index(drop=True)\n",
    "dummies = pd.get_dummies(data_ch['sic2'], prefix='dum_')\n",
    "data_ch = data_ch.drop('sic2', axis=1)\n",
    "data_ch = pd.concat([data_ch, dummies], axis=1)\n",
    "\n",
    "\n",
    "# Replace all missings of firm characteristics with 0\n",
    "chas = [x for x in cols_new if x not in ['DATE', 'RET', 'sic2']]\n",
    "data_ch[chas] = data_ch[chas].fillna(0)\n",
    "\n",
    "## Load 8 macroeconomic predictors\n",
    "data_ma = pd.read_csv(path+'PredictorData2023.csv')\n",
    "data_ma['yyyymm'] = pd.to_datetime(data_ma['yyyymm'], format='%Y%m') + pd.offsets.MonthEnd(0)\n",
    "data_ma = data_ma[(data_ma['yyyymm'] >= '1957-01-31') & (data_ma['yyyymm'] <= '2016-12-31')].reset_index(drop=True)\n",
    "#data_ma\n",
    "\n",
    "# Construct 8 macroeconomic predictors\n",
    "ma_predictors = ['dp', 'ep', 'bm', 'ntis', 'tbl', 'tms', 'dfy', 'svar']\n",
    "data_ma['Index'] = data_ma['Index'].str.replace(',', '').astype('float64')\n",
    "data_ma['dp'] = np.log(data_ma['D12'] / data_ma['Index'])\n",
    "data_ma['ep'] = np.log(data_ma['E12'] / data_ma['Index'])\n",
    "data_ma.rename(columns={'b/m': 'bm'}, inplace=True)\n",
    "data_ma['tms'] = data_ma['lty'] - data_ma['tbl']\n",
    "data_ma['dfy'] = data_ma['BAA'] - data_ma['AAA']\n",
    "data_ma = data_ma[['yyyymm'] + ma_predictors]\n",
    "\n",
    "# # Construct the dataset including all covariates\n",
    "# data_ma_long = pd.merge(data_ch['DATE'], data_ma, left_on='DATE', right_on='yyyymm', how='left').drop('yyyymm', axis=1)\n",
    "# for cha in chas:\n",
    "#     for predictor in ma_predictors:\n",
    "#         name = cha + '_' + predictor\n",
    "#         data_ch[name] = data_ch[cha] * data_ma_long[predictor]\n",
    "# data = data_ch\n",
    "\n",
    "# # concate\n",
    "# data_ma_long = pd.merge(data_ch['DATE'], data_ma, left_on='DATE', right_on='yyyymm', how='left').drop('yyyymm', axis=1)\n",
    "# data = pd.merge(data_ch, data_ma, how='left', left_on='DATE',right_on='yyyymm', suffixes=('', '_macro'))\n"
   ]
  },
  {
   "cell_type": "code",
   "execution_count": 3,
   "metadata": {},
   "outputs": [],
   "source": [
    "# concate\n",
    "data = pd.merge(data_ch, data_ma, left_on='DATE', right_on='yyyymm', how='left').drop('yyyymm', axis=1)"
   ]
  },
  {
   "cell_type": "code",
   "execution_count": 10,
   "metadata": {},
   "outputs": [
    {
     "name": "stderr",
     "output_type": "stream",
     "text": [
      "loop_1: 100%|██████████| 10/10 [03:46<00:00, 22.69s/it]\n",
      "loop_2: 100%|██████████| 10/10 [03:04<00:00, 18.41s/it]\n"
     ]
    }
   ],
   "source": [
    "\n",
    "## Split the dataset\n",
    "def get_data_split(str, end):\n",
    "    # covariates = list(set(data.columns).difference({'DATE','RET'}))\n",
    "    # X = data[(data['DATE'] >= str) & (data['DATE'] <= end)][covariates].values\n",
    "    ch = list(set(data.columns).difference({'DATE','RET'}))\n",
    "    X = data[(data['DATE'] >= str) & (data['DATE'] <= end)][ch].to_numpy()\n",
    "    y = data[(data['DATE'] >= str) & (data['DATE'] <= end)]['RET'].to_numpy()\n",
    "    return X, y\n",
    "\n",
    "def r2_score(y, yhat):\n",
    "    r2 = 1 - sum((y - yhat) ** 2) / sum(y ** 2)\n",
    "    return r2\n",
    "\n",
    "train_str = '1957-01-31'; train_end = '1974-12-31'\n",
    "val_str = '1975-01-31'; val_end = '1986-12-31'\n",
    "test_str = '1987-01-31'; test_end = '2016-12-31'\n",
    "\n",
    "### Model Fit\n",
    "## OLS & OLS3 using Huber loss\n",
    "pls_oos_r2 = []\n",
    "pls_para = []\n",
    "for i in range(30):\n",
    "    # Get training dataset, test dataset split\n",
    "    train_str = pd.to_datetime(train_str)\n",
    "    train_end = pd.to_datetime(train_end)+pd.DateOffset(years=i)\n",
    "    val_str = pd.to_datetime(val_str)+pd.DateOffset(years=i)\n",
    "    val_end = pd.to_datetime(val_end) + pd.DateOffset(years=i)\n",
    "    oos_str = pd.to_datetime(test_str) + pd.DateOffset(years=1)\n",
    "    oos_end = pd.to_datetime(test_end)\n",
    "    \n",
    "    x_train, y_train = get_data_split(train_str, train_end)\n",
    "    x_val, y_val = get_data_split(val_str, val_end)\n",
    "    x_test, y_test = get_data_split(oos_str, oos_end)\n",
    "\n",
    "    best_r2 = -np.inf\n",
    "    best_K = 0\n",
    "    # Fit model and choose best parameters\n",
    "    for K in tqdm(range(5,100,10),desc=\"year_{0}/30\".format(i+1)):\n",
    "        pls = PLSRegression(n_components=K)\n",
    "        pls_norm = make_pipeline(StandardScaler(), pls)\n",
    "        pls_norm.fit(x_train, y_train)\n",
    "        y_val_hat = pls_norm.predict(x_val).flatten()\n",
    "        val_r2= r2_score(y_val,y_val_hat)\n",
    "        if val_r2>best_r2:\n",
    "            best_r2 = val_r2\n",
    "            best_K = K\n",
    "            pls_para.append(best_K)\n",
    "    pls = PLSRegression(n_components=best_K)\n",
    "    pls_norm = make_pipeline(StandardScaler(), pls)\n",
    "    pls_norm.fit(x_train, y_train)\n",
    "    y_test_hat = pls_norm.predict(x_test).flatten()\n",
    "    oos_r2 = r2_score(y_test,y_test_hat)\n",
    "    pls_oos_r2.append(oos_r2)\n"
   ]
  },
  {
   "cell_type": "code",
   "execution_count": null,
   "metadata": {},
   "outputs": [],
   "source": [
    "\n",
    "# Compute 30 years' out of sample R^2 for PLS\n",
    "print('R^2 for PLS: \\d' % pls_oos_r2)\n",
    "print('K for PLS: \\d' % pls_para)\n",
    "pls_rec = pd.DataFrame({'r^2':pls_oos_r2,'K':pls_para})\n",
    "pls_rec.to_csv(\"PLS.csv\",index=False,sep=',')\n",
    "\n",
    "\n",
    "plt.plot(pls_oos_r2)\n",
    "plt.savefig(path+'pls_oos_r2')"
   ]
  },
  {
   "cell_type": "code",
   "execution_count": null,
   "metadata": {},
   "outputs": [],
   "source": [
    "# Convert .ipynb to .py, so that the above functions can be imported  in other files\n",
    "try:  \n",
    "  !jupyter nbconvert --to python pld.ipynb\n",
    "except:\n",
    "  pass"
   ]
  }
 ],
 "metadata": {
  "kernelspec": {
   "display_name": "pytorch",
   "language": "python",
   "name": "python3"
  },
  "language_info": {
   "codemirror_mode": {
    "name": "ipython",
    "version": 3
   },
   "file_extension": ".py",
   "mimetype": "text/x-python",
   "name": "python",
   "nbconvert_exporter": "python",
   "pygments_lexer": "ipython3",
   "version": "3.11.5"
  }
 },
 "nbformat": 4,
 "nbformat_minor": 2
}
