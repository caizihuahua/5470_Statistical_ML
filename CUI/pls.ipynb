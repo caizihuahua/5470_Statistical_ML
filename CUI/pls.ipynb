{
 "cells": [
  {
   "cell_type": "code",
   "execution_count": 1,
   "metadata": {},
   "outputs": [],
   "source": [
    "import warnings\n",
    "import pandas as pd\n",
    "import numpy as np\n",
    "from sklearn.pipeline import make_pipeline\n",
    "from sklearn.preprocessing import StandardScaler\n",
    "from sklearn.cross_decomposition import PLSRegression\n",
    "from tqdm import tqdm\n",
    "import matplotlib.pyplot as plt\n",
    "\n",
    "warnings.filterwarnings('ignore')\n",
    "path = '../GKX/'\n"
   ]
  },
  {
   "cell_type": "code",
   "execution_count": 2,
   "metadata": {},
   "outputs": [],
   "source": [
    "\n",
    "### Data preparation\n",
    "## Load 94 firm characteristics dataset\n",
    "data_ch = pd.read_csv(path+'GKX_20201231.csv')\n",
    "data_ch['DATE'] = pd.to_datetime(data_ch['DATE'], format='%Y%m%d') + pd.offsets.MonthEnd(0)\n",
    "data_ch = data_ch[(data_ch['DATE'] >= '1957-01-31') & (data_ch['DATE'] <= '2016-12-31')]\n",
    "cols = data_ch.columns.tolist()\n",
    "cols_new = [x for x in cols if x not in ['permno', 'prc', 'SHROUT', 'mve0']]\n",
    "data_ch = data_ch[cols_new]\n",
    "\n",
    "\n",
    "# Construct dummy variables\n",
    "# Remove the samples with missing 'sic2'\n",
    "data_ch  = data_ch.dropna(subset=['sic2']).reset_index(drop=True)\n",
    "dummies = pd.get_dummies(data_ch['sic2'], prefix='dum_')\n",
    "data_ch = data_ch.drop('sic2', axis=1)\n",
    "data_ch = pd.concat([data_ch, dummies], axis=1)\n",
    "\n",
    "\n",
    "# Replace all missings of firm characteristics with 0\n",
    "chas = [x for x in cols_new if x not in ['DATE', 'RET', 'sic2']]\n",
    "data_ch[chas] = data_ch[chas].fillna(0)\n",
    "\n",
    "## Load 8 macroeconomic predictors\n",
    "data_ma = pd.read_csv(path+'PredictorData2023.csv')\n",
    "data_ma['yyyymm'] = pd.to_datetime(data_ma['yyyymm'], format='%Y%m') + pd.offsets.MonthEnd(0)\n",
    "data_ma = data_ma[(data_ma['yyyymm'] >= '1957-01-31') & (data_ma['yyyymm'] <= '2016-12-31')].reset_index(drop=True)\n",
    "#data_ma\n",
    "\n",
    "# Construct 8 macroeconomic predictors\n",
    "ma_predictors = ['dp', 'ep', 'bm', 'ntis', 'tbl', 'tms', 'dfy', 'svar']\n",
    "data_ma['Index'] = data_ma['Index'].str.replace(',', '').astype('float64')\n",
    "data_ma['dp'] = np.log(data_ma['D12'] / data_ma['Index'])\n",
    "data_ma['ep'] = np.log(data_ma['E12'] / data_ma['Index'])\n",
    "data_ma.rename(columns={'b/m': 'bm'}, inplace=True)\n",
    "data_ma['tms'] = data_ma['lty'] - data_ma['tbl']\n",
    "data_ma['dfy'] = data_ma['BAA'] - data_ma['AAA']\n",
    "data_ma = data_ma[['yyyymm'] + ma_predictors]\n",
    "\n",
    "# # Construct the dataset including all covariates\n",
    "# data_ma_long = pd.merge(data_ch['DATE'], data_ma, left_on='DATE', right_on='yyyymm', how='left').drop('yyyymm', axis=1)\n",
    "# for cha in chas:\n",
    "#     for predictor in ma_predictors:\n",
    "#         name = cha + '_' + predictor\n",
    "#         data_ch[name] = data_ch[cha] * data_ma_long[predictor]\n",
    "# data = data_ch\n",
    "\n",
    "# # concate\n",
    "# data_ma_long = pd.merge(data_ch['DATE'], data_ma, left_on='DATE', right_on='yyyymm', how='left').drop('yyyymm', axis=1)\n",
    "# data = pd.merge(data_ch, data_ma, how='left', left_on='DATE',right_on='yyyymm', suffixes=('', '_macro'))\n"
   ]
  },
  {
   "cell_type": "code",
   "execution_count": 3,
   "metadata": {},
   "outputs": [],
   "source": [
    "# concate\n",
    "data = pd.merge(data_ch, data_ma, left_on='DATE', right_on='yyyymm', how='left').drop('yyyymm', axis=1)"
   ]
  },
  {
   "cell_type": "code",
   "execution_count": 10,
   "metadata": {},
   "outputs": [
    {
     "name": "stderr",
     "output_type": "stream",
     "text": [
      "loop_1: 100%|██████████| 10/10 [03:46<00:00, 22.69s/it]\n",
      "loop_2: 100%|██████████| 10/10 [03:04<00:00, 18.41s/it]\n",
      "loop_3: 100%|██████████| 10/10 [03:41<00:00, 22.13s/it]\n",
      "loop_4: 100%|██████████| 10/10 [04:45<00:00, 28.56s/it]\n",
      "loop_5: 100%|██████████| 10/10 [06:16<00:00, 37.67s/it]\n",
      "loop_6: 100%|██████████| 10/10 [09:14<00:00, 55.49s/it]\n",
      "loop_7: 100%|██████████| 10/10 [13:35<00:00, 81.53s/it] \n",
      "loop_8: 100%|██████████| 10/10 [15:51<00:00, 95.13s/it] \n",
      "loop_9: 100%|██████████| 10/10 [20:00<00:00, 120.03s/it]\n",
      "loop_10:   0%|          | 0/10 [00:38<?, ?it/s]\n"
     ]
    },
    {
     "ename": "ValueError",
     "evalue": "Found array with 0 sample(s) (shape=(0, 176)) while a minimum of 1 is required by StandardScaler.",
     "output_type": "error",
     "traceback": [
      "\u001b[0;31m---------------------------------------------------------------------------\u001b[0m",
      "\u001b[0;31mValueError\u001b[0m                                Traceback (most recent call last)",
      "Cell \u001b[0;32mIn[10], line 42\u001b[0m\n\u001b[1;32m     40\u001b[0m pls_norm \u001b[38;5;241m=\u001b[39m make_pipeline(StandardScaler(), pls)\n\u001b[1;32m     41\u001b[0m pls_norm\u001b[38;5;241m.\u001b[39mfit(x_train, y_train)\n\u001b[0;32m---> 42\u001b[0m y_val_hat \u001b[38;5;241m=\u001b[39m \u001b[43mpls_norm\u001b[49m\u001b[38;5;241;43m.\u001b[39;49m\u001b[43mpredict\u001b[49m\u001b[43m(\u001b[49m\u001b[43mx_val\u001b[49m\u001b[43m)\u001b[49m\u001b[38;5;241m.\u001b[39mflatten()\n\u001b[1;32m     43\u001b[0m val_r2\u001b[38;5;241m=\u001b[39m r2_score(y_val,y_val_hat)\n\u001b[1;32m     44\u001b[0m \u001b[38;5;28;01mif\u001b[39;00m val_r2\u001b[38;5;241m>\u001b[39mbest_r2:\n",
      "File \u001b[0;32m~/anaconda3/envs/pytorch/lib/python3.11/site-packages/sklearn/pipeline.py:480\u001b[0m, in \u001b[0;36mPipeline.predict\u001b[0;34m(self, X, **predict_params)\u001b[0m\n\u001b[1;32m    478\u001b[0m Xt \u001b[38;5;241m=\u001b[39m X\n\u001b[1;32m    479\u001b[0m \u001b[38;5;28;01mfor\u001b[39;00m _, name, transform \u001b[38;5;129;01min\u001b[39;00m \u001b[38;5;28mself\u001b[39m\u001b[38;5;241m.\u001b[39m_iter(with_final\u001b[38;5;241m=\u001b[39m\u001b[38;5;28;01mFalse\u001b[39;00m):\n\u001b[0;32m--> 480\u001b[0m     Xt \u001b[38;5;241m=\u001b[39m \u001b[43mtransform\u001b[49m\u001b[38;5;241;43m.\u001b[39;49m\u001b[43mtransform\u001b[49m\u001b[43m(\u001b[49m\u001b[43mXt\u001b[49m\u001b[43m)\u001b[49m\n\u001b[1;32m    481\u001b[0m \u001b[38;5;28;01mreturn\u001b[39;00m \u001b[38;5;28mself\u001b[39m\u001b[38;5;241m.\u001b[39msteps[\u001b[38;5;241m-\u001b[39m\u001b[38;5;241m1\u001b[39m][\u001b[38;5;241m1\u001b[39m]\u001b[38;5;241m.\u001b[39mpredict(Xt, \u001b[38;5;241m*\u001b[39m\u001b[38;5;241m*\u001b[39mpredict_params)\n",
      "File \u001b[0;32m~/anaconda3/envs/pytorch/lib/python3.11/site-packages/sklearn/utils/_set_output.py:140\u001b[0m, in \u001b[0;36m_wrap_method_output.<locals>.wrapped\u001b[0;34m(self, X, *args, **kwargs)\u001b[0m\n\u001b[1;32m    138\u001b[0m \u001b[38;5;129m@wraps\u001b[39m(f)\n\u001b[1;32m    139\u001b[0m \u001b[38;5;28;01mdef\u001b[39;00m \u001b[38;5;21mwrapped\u001b[39m(\u001b[38;5;28mself\u001b[39m, X, \u001b[38;5;241m*\u001b[39margs, \u001b[38;5;241m*\u001b[39m\u001b[38;5;241m*\u001b[39mkwargs):\n\u001b[0;32m--> 140\u001b[0m     data_to_wrap \u001b[38;5;241m=\u001b[39m \u001b[43mf\u001b[49m\u001b[43m(\u001b[49m\u001b[38;5;28;43mself\u001b[39;49m\u001b[43m,\u001b[49m\u001b[43m \u001b[49m\u001b[43mX\u001b[49m\u001b[43m,\u001b[49m\u001b[43m \u001b[49m\u001b[38;5;241;43m*\u001b[39;49m\u001b[43margs\u001b[49m\u001b[43m,\u001b[49m\u001b[43m \u001b[49m\u001b[38;5;241;43m*\u001b[39;49m\u001b[38;5;241;43m*\u001b[39;49m\u001b[43mkwargs\u001b[49m\u001b[43m)\u001b[49m\n\u001b[1;32m    141\u001b[0m     \u001b[38;5;28;01mif\u001b[39;00m \u001b[38;5;28misinstance\u001b[39m(data_to_wrap, \u001b[38;5;28mtuple\u001b[39m):\n\u001b[1;32m    142\u001b[0m         \u001b[38;5;66;03m# only wrap the first output for cross decomposition\u001b[39;00m\n\u001b[1;32m    143\u001b[0m         \u001b[38;5;28;01mreturn\u001b[39;00m (\n\u001b[1;32m    144\u001b[0m             _wrap_data_with_container(method, data_to_wrap[\u001b[38;5;241m0\u001b[39m], X, \u001b[38;5;28mself\u001b[39m),\n\u001b[1;32m    145\u001b[0m             \u001b[38;5;241m*\u001b[39mdata_to_wrap[\u001b[38;5;241m1\u001b[39m:],\n\u001b[1;32m    146\u001b[0m         )\n",
      "File \u001b[0;32m~/anaconda3/envs/pytorch/lib/python3.11/site-packages/sklearn/preprocessing/_data.py:992\u001b[0m, in \u001b[0;36mStandardScaler.transform\u001b[0;34m(self, X, copy)\u001b[0m\n\u001b[1;32m    989\u001b[0m check_is_fitted(\u001b[38;5;28mself\u001b[39m)\n\u001b[1;32m    991\u001b[0m copy \u001b[38;5;241m=\u001b[39m copy \u001b[38;5;28;01mif\u001b[39;00m copy \u001b[38;5;129;01mis\u001b[39;00m \u001b[38;5;129;01mnot\u001b[39;00m \u001b[38;5;28;01mNone\u001b[39;00m \u001b[38;5;28;01melse\u001b[39;00m \u001b[38;5;28mself\u001b[39m\u001b[38;5;241m.\u001b[39mcopy\n\u001b[0;32m--> 992\u001b[0m X \u001b[38;5;241m=\u001b[39m \u001b[38;5;28;43mself\u001b[39;49m\u001b[38;5;241;43m.\u001b[39;49m\u001b[43m_validate_data\u001b[49m\u001b[43m(\u001b[49m\n\u001b[1;32m    993\u001b[0m \u001b[43m    \u001b[49m\u001b[43mX\u001b[49m\u001b[43m,\u001b[49m\n\u001b[1;32m    994\u001b[0m \u001b[43m    \u001b[49m\u001b[43mreset\u001b[49m\u001b[38;5;241;43m=\u001b[39;49m\u001b[38;5;28;43;01mFalse\u001b[39;49;00m\u001b[43m,\u001b[49m\n\u001b[1;32m    995\u001b[0m \u001b[43m    \u001b[49m\u001b[43maccept_sparse\u001b[49m\u001b[38;5;241;43m=\u001b[39;49m\u001b[38;5;124;43m\"\u001b[39;49m\u001b[38;5;124;43mcsr\u001b[39;49m\u001b[38;5;124;43m\"\u001b[39;49m\u001b[43m,\u001b[49m\n\u001b[1;32m    996\u001b[0m \u001b[43m    \u001b[49m\u001b[43mcopy\u001b[49m\u001b[38;5;241;43m=\u001b[39;49m\u001b[43mcopy\u001b[49m\u001b[43m,\u001b[49m\n\u001b[1;32m    997\u001b[0m \u001b[43m    \u001b[49m\u001b[43mdtype\u001b[49m\u001b[38;5;241;43m=\u001b[39;49m\u001b[43mFLOAT_DTYPES\u001b[49m\u001b[43m,\u001b[49m\n\u001b[1;32m    998\u001b[0m \u001b[43m    \u001b[49m\u001b[43mforce_all_finite\u001b[49m\u001b[38;5;241;43m=\u001b[39;49m\u001b[38;5;124;43m\"\u001b[39;49m\u001b[38;5;124;43mallow-nan\u001b[39;49m\u001b[38;5;124;43m\"\u001b[39;49m\u001b[43m,\u001b[49m\n\u001b[1;32m    999\u001b[0m \u001b[43m\u001b[49m\u001b[43m)\u001b[49m\n\u001b[1;32m   1001\u001b[0m \u001b[38;5;28;01mif\u001b[39;00m sparse\u001b[38;5;241m.\u001b[39missparse(X):\n\u001b[1;32m   1002\u001b[0m     \u001b[38;5;28;01mif\u001b[39;00m \u001b[38;5;28mself\u001b[39m\u001b[38;5;241m.\u001b[39mwith_mean:\n",
      "File \u001b[0;32m~/anaconda3/envs/pytorch/lib/python3.11/site-packages/sklearn/base.py:565\u001b[0m, in \u001b[0;36mBaseEstimator._validate_data\u001b[0;34m(self, X, y, reset, validate_separately, **check_params)\u001b[0m\n\u001b[1;32m    563\u001b[0m     \u001b[38;5;28;01mraise\u001b[39;00m \u001b[38;5;167;01mValueError\u001b[39;00m(\u001b[38;5;124m\"\u001b[39m\u001b[38;5;124mValidation should be done on X, y or both.\u001b[39m\u001b[38;5;124m\"\u001b[39m)\n\u001b[1;32m    564\u001b[0m \u001b[38;5;28;01melif\u001b[39;00m \u001b[38;5;129;01mnot\u001b[39;00m no_val_X \u001b[38;5;129;01mand\u001b[39;00m no_val_y:\n\u001b[0;32m--> 565\u001b[0m     X \u001b[38;5;241m=\u001b[39m \u001b[43mcheck_array\u001b[49m\u001b[43m(\u001b[49m\u001b[43mX\u001b[49m\u001b[43m,\u001b[49m\u001b[43m \u001b[49m\u001b[43minput_name\u001b[49m\u001b[38;5;241;43m=\u001b[39;49m\u001b[38;5;124;43m\"\u001b[39;49m\u001b[38;5;124;43mX\u001b[39;49m\u001b[38;5;124;43m\"\u001b[39;49m\u001b[43m,\u001b[49m\u001b[43m \u001b[49m\u001b[38;5;241;43m*\u001b[39;49m\u001b[38;5;241;43m*\u001b[39;49m\u001b[43mcheck_params\u001b[49m\u001b[43m)\u001b[49m\n\u001b[1;32m    566\u001b[0m     out \u001b[38;5;241m=\u001b[39m X\n\u001b[1;32m    567\u001b[0m \u001b[38;5;28;01melif\u001b[39;00m no_val_X \u001b[38;5;129;01mand\u001b[39;00m \u001b[38;5;129;01mnot\u001b[39;00m no_val_y:\n",
      "File \u001b[0;32m~/anaconda3/envs/pytorch/lib/python3.11/site-packages/sklearn/utils/validation.py:931\u001b[0m, in \u001b[0;36mcheck_array\u001b[0;34m(array, accept_sparse, accept_large_sparse, dtype, order, copy, force_all_finite, ensure_2d, allow_nd, ensure_min_samples, ensure_min_features, estimator, input_name)\u001b[0m\n\u001b[1;32m    929\u001b[0m     n_samples \u001b[38;5;241m=\u001b[39m _num_samples(array)\n\u001b[1;32m    930\u001b[0m     \u001b[38;5;28;01mif\u001b[39;00m n_samples \u001b[38;5;241m<\u001b[39m ensure_min_samples:\n\u001b[0;32m--> 931\u001b[0m         \u001b[38;5;28;01mraise\u001b[39;00m \u001b[38;5;167;01mValueError\u001b[39;00m(\n\u001b[1;32m    932\u001b[0m             \u001b[38;5;124m\"\u001b[39m\u001b[38;5;124mFound array with \u001b[39m\u001b[38;5;132;01m%d\u001b[39;00m\u001b[38;5;124m sample(s) (shape=\u001b[39m\u001b[38;5;132;01m%s\u001b[39;00m\u001b[38;5;124m) while a\u001b[39m\u001b[38;5;124m\"\u001b[39m\n\u001b[1;32m    933\u001b[0m             \u001b[38;5;124m\"\u001b[39m\u001b[38;5;124m minimum of \u001b[39m\u001b[38;5;132;01m%d\u001b[39;00m\u001b[38;5;124m is required\u001b[39m\u001b[38;5;132;01m%s\u001b[39;00m\u001b[38;5;124m.\u001b[39m\u001b[38;5;124m\"\u001b[39m\n\u001b[1;32m    934\u001b[0m             \u001b[38;5;241m%\u001b[39m (n_samples, array\u001b[38;5;241m.\u001b[39mshape, ensure_min_samples, context)\n\u001b[1;32m    935\u001b[0m         )\n\u001b[1;32m    937\u001b[0m \u001b[38;5;28;01mif\u001b[39;00m ensure_min_features \u001b[38;5;241m>\u001b[39m \u001b[38;5;241m0\u001b[39m \u001b[38;5;129;01mand\u001b[39;00m array\u001b[38;5;241m.\u001b[39mndim \u001b[38;5;241m==\u001b[39m \u001b[38;5;241m2\u001b[39m:\n\u001b[1;32m    938\u001b[0m     n_features \u001b[38;5;241m=\u001b[39m array\u001b[38;5;241m.\u001b[39mshape[\u001b[38;5;241m1\u001b[39m]\n",
      "\u001b[0;31mValueError\u001b[0m: Found array with 0 sample(s) (shape=(0, 176)) while a minimum of 1 is required by StandardScaler."
     ]
    }
   ],
   "source": [
    "\n",
    "## Split the dataset\n",
    "def get_data_split(str, end):\n",
    "    # covariates = list(set(data.columns).difference({'DATE','RET'}))\n",
    "    # X = data[(data['DATE'] >= str) & (data['DATE'] <= end)][covariates].values\n",
    "    ch = list(set(data.columns).difference({'DATE','RET'}))\n",
    "    X = data[(data['DATE'] >= str) & (data['DATE'] <= end)][ch].to_numpy()\n",
    "    y = data[(data['DATE'] >= str) & (data['DATE'] <= end)]['RET'].to_numpy()\n",
    "    return X, y\n",
    "\n",
    "def r2_score(y, yhat):\n",
    "    r2 = 1 - sum((y - yhat) ** 2) / sum(y ** 2)\n",
    "    return r2\n",
    "\n",
    "train_str = '1957-01-31'; train_end = '1974-12-31'\n",
    "val_str = '1975-01-31'; val_end = '1986-12-31'\n",
    "test_str = '1987-01-31'; test_end = '2016-12-31'\n",
    "\n",
    "### Model Fit\n",
    "## OLS & OLS3 using Huber loss\n",
    "pls_oos_r2 = []\n",
    "pls_para = []\n",
    "for i in range(30):\n",
    "    # Get training dataset, test dataset split\n",
    "    train_str = pd.to_datetime(train_str)\n",
    "    train_end = pd.to_datetime(train_end)+pd.DateOffset(years=i)\n",
    "    val_str = pd.to_datetime(val_str)+pd.DateOffset(years=i)\n",
    "    val_end = pd.to_datetime(val_end) + pd.DateOffset(years=i)\n",
    "    oos_str = pd.to_datetime(test_str) + pd.DateOffset(years=1)\n",
    "    oos_end = pd.to_datetime(test_end)\n",
    "    \n",
    "    x_train, y_train = get_data_split(train_str, train_end)\n",
    "    x_val, y_val = get_data_split(val_str, val_end)\n",
    "    x_test, y_test = get_data_split(oos_str, oos_end)\n",
    "\n",
    "    best_r2 = -np.inf\n",
    "    best_K = 0\n",
    "    # Fit model and choose best parameters\n",
    "    for K in tqdm(range(5,100,10),desc=\"year_{0}/30\".format(i+1)):\n",
    "        pls = PLSRegression(n_components=K)\n",
    "        pls_norm = make_pipeline(StandardScaler(), pls)\n",
    "        pls_norm.fit(x_train, y_train)\n",
    "        y_val_hat = pls_norm.predict(x_val).flatten()\n",
    "        val_r2= r2_score(y_val,y_val_hat)\n",
    "        if val_r2>best_r2:\n",
    "            best_r2 = val_r2\n",
    "            best_K = K\n",
    "\n",
    "    pls_para.append(best_K)\n",
    "    pls = PLSRegression(n_components=best_K)\n",
    "    pls_norm = make_pipeline(StandardScaler(), pls)\n",
    "    pls_norm.fit(x_train, y_train)\n",
    "    y_test_hat = pls_norm.predict(x_test).flatten()\n",
    "    oos_r2 = r2_score(y_test,y_test_hat)\n",
    "    pls_oos_r2.append(oos_r2)\n"
   ]
  },
  {
   "cell_type": "code",
   "execution_count": 22,
   "metadata": {},
   "outputs": [
    {
     "data": {
      "text/plain": [
       "(3502067, 176)"
      ]
     },
     "execution_count": 22,
     "metadata": {},
     "output_type": "execute_result"
    }
   ],
   "source": [
    "x_train.shape"
   ]
  },
  {
   "cell_type": "code",
   "execution_count": 20,
   "metadata": {},
   "outputs": [
    {
     "name": "stdout",
     "output_type": "stream",
     "text": [
      "R^2 for PLS: [-113560.0657756688, -6.45629720338726, -0.537194577531078, -0.6690126561419489, -0.10907961236284192, -0.021360608287532612, -0.018119155960207856, 0.011946685943363122, 0.01974594287258835]\n",
      "K for PLS: [5, 15, 25, 35, 5, 5, 5, 5, 5]\n"
     ]
    }
   ],
   "source": [
    "\n",
    "# Compute 30 years' out of sample R^2 for PLS\n",
    "print('R^2 for PLS: {0}'.format(pls_oos_r2))\n",
    "print('K for PLS: {0}'.format(pls_para))\n",
    "pls_rec = pd.DataFrame({'r^2':pls_oos_r2,'K':pls_para})\n",
    "pls_rec.to_csv(\"PLS.csv\",index=False,sep=',')"
   ]
  },
  {
   "cell_type": "code",
   "execution_count": null,
   "metadata": {},
   "outputs": [],
   "source": [
    "permutation_importance"
   ]
  },
  {
   "cell_type": "code",
   "execution_count": null,
   "metadata": {},
   "outputs": [],
   "source": [
    "# Convert .ipynb to .py, so that the above functions can be imported  in other files\n",
    "try:  \n",
    "  !jupyter nbconvert --to python pld.ipynb\n",
    "except:\n",
    "  pass"
   ]
  }
 ],
 "metadata": {
  "kernelspec": {
   "display_name": "pytorch",
   "language": "python",
   "name": "python3"
  },
  "language_info": {
   "codemirror_mode": {
    "name": "ipython",
    "version": 3
   },
   "file_extension": ".py",
   "mimetype": "text/x-python",
   "name": "python",
   "nbconvert_exporter": "python",
   "pygments_lexer": "ipython3",
   "version": "3.11.5"
  }
 },
 "nbformat": 4,
 "nbformat_minor": 2
}
