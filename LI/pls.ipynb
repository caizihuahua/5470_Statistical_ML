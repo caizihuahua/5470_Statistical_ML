{
 "cells": [
  {
   "cell_type": "code",
   "execution_count": null,
   "metadata": {},
   "outputs": [],
   "source": [
    "import warnings\n",
    "import pandas as pd\n",
    "import numpy as np\n",
    "from sklearn.pipeline import make_pipeline\n",
    "from sklearn.preprocessing import StandardScaler\n",
    "from sklearn.cross_decomposition import PLSRegression\n",
    "\n",
    "warnings.filterwarnings('ignore')\n",
    "path = '../GKX/'\n",
    "### Data preparation\n",
    "## Load 94 firm characteristics dataset\n",
    "data_ch = pd.read_csv(path+'GKX_20201231.csv')\n",
    "data_ch['DATE'] = pd.to_datetime(data_ch['DATE'], format='%Y%m%d') + pd.offsets.MonthEnd(0)\n",
    "data_ch = data_ch[(data_ch['DATE'] >= '1957-01-31') & (data_ch['DATE'] <= '2016-12-31')]\n",
    "cols = data_ch.columns.tolist()\n",
    "cols_new = [x for x in cols if x not in ['permno', 'prc', 'SHROUT', 'mve0']]\n",
    "data_ch = data_ch[cols_new]\n",
    "\n",
    "\n",
    "# Construct dummy variables\n",
    "# Remove the samples with missing 'sic2'\n",
    "data_ch  = data_ch.dropna(subset=['sic2']).reset_index(drop=True)\n",
    "dummies = pd.get_dummies(data_ch['sic2'], prefix='dum_')\n",
    "data_ch = data_ch.drop('sic2', axis=1)\n",
    "data_ch = pd.concat([data_ch, dummies], axis=1)\n",
    "\n",
    "\n",
    "# Replace all missings of firm characteristics with 0\n",
    "chas = [x for x in cols_new if x not in ['DATE', 'RET', 'sic2']]\n",
    "data_ch[chas] = data_ch[chas].fillna(0)\n",
    "\n",
    "## Load 8 macroeconomic predictors\n",
    "data_ma = pd.read_csv(path+'PredictorData2023.csv')\n",
    "data_ma['yyyymm'] = pd.to_datetime(data_ma['yyyymm'], format='%Y%m') + pd.offsets.MonthEnd(0)\n",
    "data_ma = data_ma[(data_ma['yyyymm'] >= '1957-01-31') & (data_ma['yyyymm'] <= '2016-12-31')].reset_index(drop=True)\n",
    "#data_ma\n",
    "\n",
    "# Construct 8 macroeconomic predictors\n",
    "ma_predictors = ['dp', 'ep', 'bm', 'ntis', 'tbl', 'tms', 'dfy', 'svar']\n",
    "data_ma['Index'] = data_ma['Index'].str.replace(',', '').astype('float64')\n",
    "data_ma['dp'] = np.log(data_ma['D12'] / data_ma['Index'])\n",
    "data_ma['ep'] = np.log(data_ma['E12'] / data_ma['Index'])\n",
    "data_ma.rename(columns={'b/m': 'bm'}, inplace=True)\n",
    "data_ma['tms'] = data_ma['lty'] - data_ma['tbl']\n",
    "data_ma['dfy'] = data_ma['BAA'] - data_ma['AAA']\n",
    "data_ma = data_ma[['yyyymm'] + ma_predictors]\n",
    "\n",
    "# # Construct the dataset including all covariates\n",
    "# data_ma_long = pd.merge(data_ch['DATE'], data_ma, left_on='DATE', right_on='yyyymm', how='left').drop('yyyymm', axis=1)\n",
    "# for cha in chas:\n",
    "#     for predictor in ma_predictors:\n",
    "#         name = cha + '_' + predictor\n",
    "#         data_ch[name] = data_ch[cha] * data_ma_long[predictor]\n",
    "# data = data_ch\n",
    "\n",
    "# concate without covariates\n",
    "data = pd.merge(data_ch, data_ma, left_on='DATE', right_on='yyyymm', how='left').drop('yyyymm', axis=1)\n",
    "## Split the dataset\n",
    "def get_data_split(str, end):\n",
    "    # covariates = list(set(data.columns).difference({'DATE','RET'}))\n",
    "    # X = data[(data['DATE'] >= str) & (data['DATE'] <= end)][covariates].values\n",
    "    ch = list(set(data.columns).difference({'DATE','RET'}))\n",
    "    X = data[(data['DATE'] >= str) & (data['DATE'] <= end)][ch].to_numpy()\n",
    "    y = data[(data['DATE'] >= str) & (data['DATE'] <= end)]['RET'].to_numpy()\n",
    "    return X, y\n",
    "\n",
    "def r2_score(y, yhat):\n",
    "    r2 = 1 - sum((y - yhat) ** 2) / sum(y ** 2)\n",
    "    return r2\n",
    "\n",
    "init_train_str = '1957-01-31'; init_train_end = '1974-12-31'\n",
    "init_val_str = '1975-01-31'; init_val_end = '1986-12-31'\n",
    "init_test_str = '1987-01-31'; init_test_end = '2016-12-31'\n",
    "year_span = 30"
   ]
  },
  {
   "cell_type": "code",
   "execution_count": null,
   "metadata": {},
   "outputs": [],
   "source": [
    "### Model Fit\n",
    "pls_oos_r2 = []\n",
    "pls_para = []\n",
    "for i in range(year_span):\n",
    "    # Get training dataset, test dataset split, test for one year\n",
    "    train_str = pd.to_datetime(init_train_str)\n",
    "    train_end = pd.to_datetime(init_train_end)+pd.DateOffset(years=i)\n",
    "    val_str = train_end + pd.DateOffset(years=1)\n",
    "    val_end = pd.to_datetime(init_val_end)+pd.DateOffset(years=i)\n",
    "    oos_str = val_end + pd.DateOffset(years=1)\n",
    "    oos_end = oos_str\n",
    "\n",
    "    x_train, y_train = get_data_split(train_str, train_end)\n",
    "    x_val, y_val = get_data_split(val_str, val_end)\n",
    "    x_test, y_test = get_data_split(oos_str, oos_end)\n",
    "\n",
    "    best_r2 = -np.inf\n",
    "    best_K = 0\n",
    "    # Fit model and choose best parameters\n",
    "    for K in range(1,5,1):\n",
    "        pls = PLSRegression(n_components=K)\n",
    "        pls_model = make_pipeline(StandardScaler(), pls)\n",
    "        pls_model.fit(x_train, y_train)\n",
    "        y_val_hat = pls_model.predict(x_val).flatten()\n",
    "        val_r2= r2_score(y_val,y_val_hat)\n",
    "        if val_r2>best_r2:\n",
    "            best_r2 = val_r2\n",
    "            best_K = K\n",
    "\n",
    "    pls_para.append(best_K)\n",
    "    pls = PLSRegression(n_components=best_K)\n",
    "    pls_model = make_pipeline(StandardScaler(), pls)\n",
    "    pls_model.fit(x_train, y_train)\n",
    "    y_test_hat = pls_model.predict(x_test).flatten()\n",
    "    oos_r2 = r2_score(y_test,y_test_hat)\n",
    "    pls_oos_r2.append(oos_r2)\n",
    "    print(\"year:{0}/30, r^2:{1}, K:{2}\".format(i+1,oos_r2,best_K))"
   ]
  },
  {
   "cell_type": "code",
   "execution_count": 244,
   "metadata": {},
   "outputs": [],
   "source": [
    "pls_rec = pd.DataFrame({'r^2':pls_oos_r2,'K':pls_para})\n",
    "pls_rec.to_csv(\"pls.csv\",index=False,sep=',')\n",
    "with open(\"./chas.txt\",'w') as f:\n",
    "    _chs = data.columns.values.tolist()\n",
    "    _chs.remove('DATE')\n",
    "    _chs.remove('RET')\n",
    "    f.write(\",\".join(_chs)+'\\n')"
   ]
  },
  {
   "cell_type": "markdown",
   "metadata": {},
   "source": [
    "### Plot $R^2$ and Best component"
   ]
  },
  {
   "cell_type": "code",
   "execution_count": null,
   "metadata": {},
   "outputs": [],
   "source": [
    "import numpy as np\n",
    "import pandas as pd\n",
    "import matplotlib.pyplot as plt\n",
    "plsdata = pd.read_csv(\"./pls.csv\")"
   ]
  },
  {
   "cell_type": "code",
   "execution_count": null,
   "metadata": {},
   "outputs": [],
   "source": [
    "plt.figure(figsize=(5,3))\n",
    "plt.title(\"PLS\")\n",
    "plt.xlabel('Year')\n",
    "plt.ylabel('$R^2$')\n",
    "plt.bar(np.arange(1988,2017),plsdata['r^2'][1:])\n",
    "plt.tight_layout()"
   ]
  },
  {
   "cell_type": "code",
   "execution_count": null,
   "metadata": {},
   "outputs": [],
   "source": [
    "plt.figure(figsize=(5,3))\n",
    "plt.title(\"PLS\")\n",
    "plt.xlabel('Year')\n",
    "plt.ylabel('# of Comp.')\n",
    "plt.plot(np.arange(1987,2017),plsdata['K'])\n",
    "plt.tight_layout()"
   ]
  },
  {
   "cell_type": "markdown",
   "metadata": {},
   "source": [
    "### Variable Importance"
   ]
  },
  {
   "cell_type": "code",
   "execution_count": null,
   "metadata": {},
   "outputs": [],
   "source": [
    "from sklearn.inspection import permutation_importance\n",
    "import pandas as pd\n",
    "\n",
    "init_train_str = '1957-01-31'; init_train_end = '1974-12-31'\n",
    "init_val_str = '1975-01-31'; init_val_end = '1986-12-31'\n",
    "init_test_str = '1987-01-31'; init_test_end = '2016-12-31'\n",
    "year_span = 30\n",
    "\n",
    "train_str = pd.to_datetime(init_train_str)\n",
    "train_end = pd.to_datetime(init_val_end)+pd.DateOffset(years=year_span)\n",
    "oos_str = train_end+pd.DateOffset(years=1)\n",
    "oos_end = oos_str\n",
    "x_train, y_train = get_data_split(train_str, train_end)\n",
    "x_test, y_test = get_data_split(oos_str, oos_end)\n",
    "\n",
    "plsdata = pd.read_csv(\"./pls.csv\")\n",
    "\n",
    "K = plsdata['K'].values[-1]\n",
    "pls = PLSRegression(n_components=K)\n",
    "pls_model = make_pipeline(StandardScaler(), pls)\n",
    "pls_model.fit(x_train,y_train)\n",
    "\n",
    "results = permutation_importance(pls_model,x_train,y_train,n_repeats=2,random_state=421)"
   ]
  },
  {
   "cell_type": "code",
   "execution_count": 257,
   "metadata": {},
   "outputs": [],
   "source": [
    "chas = pd.read_table('./chas.txt',header=None,sep=',')\n",
    "vi = pd.DataFrame({'chas':chas.values[0],'val':results['importances'].flatten()})\n",
    "vi.to_csv(\"pls_vi.csv\",index=False,sep=',')\n",
    "\n"
   ]
  },
  {
   "cell_type": "markdown",
   "metadata": {},
   "source": [
    "### Plot the Variable Importance: 20"
   ]
  },
  {
   "cell_type": "code",
   "execution_count": 264,
   "metadata": {},
   "outputs": [
    {
     "data": {
      "image/png": "[encoded data removed]",
      "text/plain": [
       "<Figure size 500x300 with 1 Axes>"
      ]
     },
     "metadata": {},
     "output_type": "display_data"
    }
   ],
   "source": [
    "import seaborn as sns\n",
    "pls_vi = pd.read_csv(\"pls_vi.csv\")\n",
    "# delete sic_dummy\n",
    "pls_vi = pls_vi[~pls_vi['chas'].str.contains('dum__')]\n",
    "vi20=pls_vi.sort_values(by=\"val\",ascending=False)[0:20]\n",
    "vi20.to_csv(\"pls_vi_20.csv\",index=False,sep=',')\n",
    "\n",
    "plt.figure(100,figsize=(5,3))\n",
    "ax = sns.barplot(x=vi20['val'],y=vi20['chas'],color='blue')\n",
    "ax.set_title('Variable Importance')\n",
    "plt.tight_layout()"
   ]
  }
 ],
 "metadata": {
  "kernelspec": {
   "display_name": "pytorch",
   "language": "python",
   "name": "python3"
  },
  "language_info": {
   "codemirror_mode": {
    "name": "ipython",
    "version": 3
   },
   "file_extension": ".py",
   "mimetype": "text/x-python",
   "name": "python",
   "nbconvert_exporter": "python",
   "pygments_lexer": "ipython3",
   "version": "3.11.5"
  }
 },
 "nbformat": 4,
 "nbformat_minor": 2
}
