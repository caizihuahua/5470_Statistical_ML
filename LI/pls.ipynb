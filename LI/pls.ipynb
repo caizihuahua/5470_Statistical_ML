{
 "cells": [
  {
   "cell_type": "code",
   "execution_count": 1,
   "metadata": {},
   "outputs": [],
   "source": [
    "import warnings\n",
    "import pandas as pd\n",
    "import numpy as np\n",
    "from sklearn.pipeline import make_pipeline\n",
    "from sklearn.preprocessing import StandardScaler\n",
    "from sklearn.cross_decomposition import PLSRegression\n",
    "\n",
    "warnings.filterwarnings('ignore')\n",
    "path = '../GKX/'\n",
    "### Data preparation\n",
    "## Load 94 firm characteristics dataset\n",
    "data_ch = pd.read_csv(path+'GKX_20201231.csv')\n",
    "data_ch['DATE'] = pd.to_datetime(data_ch['DATE'], format='%Y%m%d') + pd.offsets.MonthEnd(0)\n",
    "data_ch = data_ch[(data_ch['DATE'] >= '1957-01-31') & (data_ch['DATE'] <= '2016-12-31')]\n",
    "cols = data_ch.columns.tolist()\n",
    "cols_new = [x for x in cols if x not in ['permno', 'prc', 'SHROUT', 'mve0']]\n",
    "data_ch = data_ch[cols_new]\n",
    "\n",
    "\n",
    "# Construct dummy variables\n",
    "# Remove the samples with missing 'sic2'\n",
    "data_ch  = data_ch.dropna(subset=['sic2']).reset_index(drop=True)\n",
    "dummies = pd.get_dummies(data_ch['sic2'], prefix='dum_')\n",
    "data_ch = data_ch.drop('sic2', axis=1)\n",
    "data_ch = pd.concat([data_ch, dummies], axis=1)\n",
    "\n",
    "\n",
    "# Replace all missings of firm characteristics with 0\n",
    "chas = [x for x in cols_new if x not in ['DATE', 'RET', 'sic2']]\n",
    "data_ch[chas] = data_ch[chas].fillna(0)\n",
    "\n",
    "## Load 8 macroeconomic predictors\n",
    "data_ma = pd.read_csv(path+'PredictorData2023.csv')\n",
    "data_ma['yyyymm'] = pd.to_datetime(data_ma['yyyymm'], format='%Y%m') + pd.offsets.MonthEnd(0)\n",
    "data_ma = data_ma[(data_ma['yyyymm'] >= '1957-01-31') & (data_ma['yyyymm'] <= '2016-12-31')].reset_index(drop=True)\n",
    "#data_ma\n",
    "\n",
    "# Construct 8 macroeconomic predictors\n",
    "ma_predictors = ['dp', 'ep', 'bm', 'ntis', 'tbl', 'tms', 'dfy', 'svar']\n",
    "data_ma['Index'] = data_ma['Index'].str.replace(',', '').astype('float64')\n",
    "data_ma['dp'] = np.log(data_ma['D12'] / data_ma['Index'])\n",
    "data_ma['ep'] = np.log(data_ma['E12'] / data_ma['Index'])\n",
    "data_ma.rename(columns={'b/m': 'bm'}, inplace=True)\n",
    "data_ma['tms'] = data_ma['lty'] - data_ma['tbl']\n",
    "data_ma['dfy'] = data_ma['BAA'] - data_ma['AAA']\n",
    "data_ma = data_ma[['yyyymm'] + ma_predictors]\n",
    "\n",
    "# # Construct the dataset including all covariates\n",
    "# data_ma_long = pd.merge(data_ch['DATE'], data_ma, left_on='DATE', right_on='yyyymm', how='left').drop('yyyymm', axis=1)\n",
    "# for cha in chas:\n",
    "#     for predictor in ma_predictors:\n",
    "#         name = cha + '_' + predictor\n",
    "#         data_ch[name] = data_ch[cha] * data_ma_long[predictor]\n",
    "# data = data_ch\n",
    "\n",
    "# concate without covariates\n",
    "data = pd.merge(data_ch, data_ma, left_on='DATE', right_on='yyyymm', how='left').drop('yyyymm', axis=1)\n",
    "## Split the dataset\n",
    "def get_data_split(str, end):\n",
    "    # covariates = list(set(data.columns).difference({'DATE','RET'}))\n",
    "    # X = data[(data['DATE'] >= str) & (data['DATE'] <= end)][covariates].values\n",
    "    ch = list(set(data.columns).difference({'DATE','RET'}))\n",
    "    X = data[(data['DATE'] >= str) & (data['DATE'] <= end)][ch].to_numpy()\n",
    "    y = data[(data['DATE'] >= str) & (data['DATE'] <= end)]['RET'].to_numpy()\n",
    "    return X, y\n",
    "\n",
    "def r2_score(y, yhat):\n",
    "    r2 = 1 - sum((y - yhat) ** 2) / sum(y ** 2)\n",
    "    return r2\n",
    "\n",
    "init_train_str = '1957-01-31'; init_train_end = '1974-12-31'\n",
    "init_val_str = '1975-01-31'; init_val_end = '1986-12-31'\n",
    "init_test_str = '1987-01-31'; init_test_end = '2016-12-31'\n",
    "year_span = 30"
   ]
  },
  {
   "cell_type": "code",
   "execution_count": null,
   "metadata": {},
   "outputs": [],
   "source": [
    "### Model Fit\n",
    "pls_oos_r2 = []\n",
    "pls_para = []\n",
    "for i in range(year_span):\n",
    "    # Get training dataset, test dataset split, test for one year\n",
    "    train_str = pd.to_datetime(init_train_str)\n",
    "    train_end = pd.to_datetime(init_train_end)+pd.DateOffset(years=i)\n",
    "    val_str = train_end + pd.DateOffset(years=1)\n",
    "    val_end = pd.to_datetime(init_val_end)+pd.DateOffset(years=i)\n",
    "    oos_str = val_end + pd.DateOffset(years=1)\n",
    "    oos_end = oos_str\n",
    "\n",
    "    x_train, y_train = get_data_split(train_str, train_end)\n",
    "    x_val, y_val = get_data_split(val_str, val_end)\n",
    "    x_test, y_test = get_data_split(oos_str, oos_end)\n",
    "\n",
    "    best_r2 = -np.inf\n",
    "    best_K = 0\n",
    "    # Fit model and choose best parameters\n",
    "    for K in range(1,5,1):\n",
    "        pls = PLSRegression(n_components=K)\n",
    "        pls_model = make_pipeline(StandardScaler(), pls)\n",
    "        pls_model.fit(x_train, y_train)\n",
    "        y_val_hat = pls_model.predict(x_val).flatten()\n",
    "        val_r2= r2_score(y_val,y_val_hat)\n",
    "        if val_r2>best_r2:\n",
    "            best_r2 = val_r2\n",
    "            best_K = K\n",
    "\n",
    "    pls_para.append(best_K)\n",
    "    pls = PLSRegression(n_components=best_K)\n",
    "    pls_model = make_pipeline(StandardScaler(), pls)\n",
    "    pls_model.fit(x_train, y_train)\n",
    "    y_test_hat = pls_model.predict(x_test).flatten()\n",
    "    oos_r2 = r2_score(y_test,y_test_hat)\n",
    "    pls_oos_r2.append(oos_r2)\n",
    "    print(\"year:{0}/30, r^2:{1}, K:{2}\".format(i+1,oos_r2,best_K))"
   ]
  },
  {
   "cell_type": "code",
   "execution_count": 244,
   "metadata": {},
   "outputs": [],
   "source": [
    "pls_rec = pd.DataFrame({'r^2':pls_oos_r2,'K':pls_para})\n",
    "pls_rec.to_csv(\"pls.csv\",index=False,sep=',')\n",
    "with open(\"./chas.txt\",'w') as f:\n",
    "    _chs = data.columns.values.tolist()\n",
    "    _chs.remove('DATE')\n",
    "    _chs.remove('RET')\n",
    "    f.write(\",\".join(_chs)+'\\n')"
   ]
  },
  {
   "cell_type": "markdown",
   "metadata": {},
   "source": [
    "### Plot $R^2$ and Best component"
   ]
  },
  {
   "cell_type": "code",
   "execution_count": 2,
   "metadata": {},
   "outputs": [],
   "source": [
    "import numpy as np\n",
    "import pandas as pd\n",
    "import matplotlib.pyplot as plt\n",
    "plsdata = pd.read_csv(\"./pls.csv\")"
   ]
  },
  {
   "cell_type": "code",
   "execution_count": 9,
   "metadata": {},
   "outputs": [
    {
     "data": {
      "image/png": "[encoded data removed]",
      "text/plain": [
       "<Figure size 500x300 with 1 Axes>"
      ]
     },
     "metadata": {},
     "output_type": "display_data"
    }
   ],
   "source": [
    "plt.figure(figsize=(5,3))\n",
    "plt.title(\"PLS\")\n",
    "plt.xlabel('Year')\n",
    "plt.ylim(-1.,0.5)\n",
    "plt.ylabel('$R^2$')\n",
    "plt.bar(np.arange(1988,2017),plsdata['r^2'][1:])\n",
    "plt.tight_layout()"
   ]
  },
  {
   "cell_type": "code",
   "execution_count": 10,
   "metadata": {},
   "outputs": [
    {
     "data": {
      "image/png": "[encoded data removed]",
      "text/plain": [
       "<Figure size 500x300 with 1 Axes>"
      ]
     },
     "metadata": {},
     "output_type": "display_data"
    }
   ],
   "source": [
    "plt.figure(figsize=(5,3))\n",
    "plt.title(\"PLS\")\n",
    "plt.xlabel('Year')\n",
    "plt.ylabel('# of Comp.')\n",
    "plt.plot(np.arange(1987,2017),plsdata['K'])\n",
    "plt.tight_layout()"
   ]
  },
  {
   "cell_type": "markdown",
   "metadata": {},
   "source": [
    "### Variable Importance"
   ]
  },
  {
   "cell_type": "code",
   "execution_count": 13,
   "metadata": {},
   "outputs": [],
   "source": [
    "from sklearn.inspection import permutation_importance\n",
    "import pandas as pd\n",
    "\n",
    "init_train_str = '1957-01-31'; init_train_end = '1974-12-31'\n",
    "init_val_str = '1975-01-31'; init_val_end = '1986-12-31'\n",
    "init_test_str = '1987-01-31'; init_test_end = '2016-12-31'\n",
    "year_span = 30\n",
    "\n",
    "train_str = pd.to_datetime(init_train_str)\n",
    "train_end = pd.to_datetime(init_val_end)+pd.DateOffset(years=year_span)\n",
    "oos_str = train_end+pd.DateOffset(years=1)\n",
    "oos_end = oos_str\n",
    "x_train, y_train = get_data_split(train_str, train_end)\n",
    "x_test, y_test = get_data_split(oos_str, oos_end)\n",
    "\n",
    "plsdata = pd.read_csv(\"./pls.csv\")\n",
    "\n",
    "K = plsdata['K'].values[-1]\n",
    "pls = PLSRegression(n_components=K)\n",
    "pls_model = make_pipeline(StandardScaler(), pls)\n",
    "pls_model.fit(x_train,y_train)\n",
    "\n",
    "results = permutation_importance(pls_model,x_train,y_train,n_repeats=2,random_state=421)"
   ]
  },
  {
   "cell_type": "code",
   "execution_count": 16,
   "metadata": {},
   "outputs": [
    {
     "name": "stdout",
     "output_type": "stream",
     "text": [
      "[[-7.36591494e-06 -6.78746684e-06]\n",
      " [ 9.93969672e-07  1.57821015e-06]\n",
      " [-1.10466981e-04 -9.54177503e-05]\n",
      " [ 5.73409280e-07  3.82379547e-07]\n",
      " [ 4.60974546e-08  3.17357944e-08]\n",
      " [-1.62608076e-05 -2.00173442e-05]\n",
      " [ 5.41057401e-05  5.36845170e-05]\n",
      " [ 1.28355366e-06  2.13971605e-06]\n",
      " [ 1.53715136e-07  9.13151555e-07]\n",
      " [ 9.74804794e-04  9.55456924e-04]\n",
      " [-1.13446586e-04 -1.05488689e-04]\n",
      " [ 1.33994605e-06 -6.49424254e-07]\n",
      " [ 1.69877747e-05  1.64671315e-05]\n",
      " [ 4.04908978e-06  5.49458057e-06]\n",
      " [ 4.72621138e-06  4.49825603e-06]\n",
      " [-1.75065634e-05 -1.56108652e-05]\n",
      " [-5.83591043e-07 -5.84309608e-07]\n",
      " [-4.61893805e-08  1.24444983e-07]\n",
      " [-7.25234492e-05 -6.99993943e-05]\n",
      " [-8.03685656e-06 -9.87890334e-06]\n",
      " [ 2.81435189e-07 -2.00085106e-07]\n",
      " [ 2.27410452e-05  2.19377412e-05]\n",
      " [-1.30146963e-04 -1.40624075e-04]\n",
      " [-1.38704961e-07  3.74371326e-07]\n",
      " [ 4.12046331e-07 -4.85758135e-08]\n",
      " [ 9.23557146e-07  4.90170249e-07]\n",
      " [ 1.29401578e-06  1.20590222e-06]\n",
      " [-4.73923636e-06  3.02072282e-06]\n",
      " [ 3.38993074e-05  3.37677751e-05]\n",
      " [ 6.46159512e-06  7.33462055e-06]\n",
      " [-3.42530071e-04 -3.34521666e-04]\n",
      " [ 1.18145530e-04  1.21505412e-04]\n",
      " [ 1.61715130e-06  1.17097149e-06]\n",
      " [-2.39141449e-04 -2.10700880e-04]\n",
      " [ 1.28861442e-06 -1.28727378e-07]\n",
      " [ 4.24416266e-07  8.37694364e-07]\n",
      " [-3.91053221e-07 -3.64257412e-07]\n",
      " [ 1.56109132e-06  2.70392449e-06]\n",
      " [-7.39833528e-09 -5.97696505e-08]\n",
      " [-4.31559921e-09 -5.51325197e-09]\n",
      " [-4.74151175e-04 -4.45812889e-04]\n",
      " [ 6.63905372e-07  1.45592945e-06]\n",
      " [-5.06285874e-05 -4.37465735e-05]\n",
      " [-2.17586748e-05 -2.14395946e-05]\n",
      " [ 1.79354055e-07  5.93427736e-08]\n",
      " [ 1.76635505e-07  1.16209440e-06]\n",
      " [ 1.39419414e-05  1.32903390e-05]\n",
      " [-1.35743202e-05 -1.80947701e-05]\n",
      " [ 2.74178602e-06  3.71563939e-06]\n",
      " [ 1.34459241e-06  1.59259042e-06]\n",
      " [ 7.42799113e-06  5.44007984e-06]\n",
      " [ 2.99404143e-06  1.64997304e-06]\n",
      " [-2.67276717e-06  1.30084428e-06]\n",
      " [-4.54074438e-05 -4.91541224e-05]\n",
      " [ 6.04084926e-05  4.26040028e-05]\n",
      " [ 3.02913533e-07  2.55919431e-07]\n",
      " [ 2.69167455e-05  3.65245619e-05]\n",
      " [ 1.26297634e-06  2.23697933e-06]\n",
      " [ 5.84550409e-06  6.43109177e-06]\n",
      " [ 7.74383540e-07  1.34024121e-06]\n",
      " [-4.43086882e-06 -1.44243231e-05]\n",
      " [-7.75909709e-05 -8.64069698e-05]\n",
      " [-6.08557694e-07 -5.01530631e-07]\n",
      " [ 2.38229935e-06 -3.98912683e-06]\n",
      " [-2.09869213e-06 -1.38937930e-06]\n",
      " [-1.85300196e-06 -1.98751786e-06]\n",
      " [-1.07358586e-06  2.54845205e-06]\n",
      " [ 3.51001673e-06  3.95926312e-06]\n",
      " [ 6.25367386e-08  1.06272455e-07]\n",
      " [ 1.18989693e-05  1.23021873e-05]\n",
      " [ 5.34506307e-04  5.30587661e-04]\n",
      " [-1.36600799e-06 -1.65270924e-06]\n",
      " [ 2.05923994e-05  1.65150231e-05]\n",
      " [ 1.11151636e-06  6.27590667e-06]\n",
      " [ 3.66513567e-05  2.24893814e-05]\n",
      " [ 3.24049264e-06  5.35074606e-06]\n",
      " [-1.06570939e-05 -1.16374167e-05]\n",
      " [-2.66982429e-04 -2.61669871e-04]\n",
      " [ 6.38887436e-05  6.35264151e-05]\n",
      " [-1.78262959e-07 -3.52976947e-08]\n",
      " [-3.58124508e-06 -6.20237612e-06]\n",
      " [ 1.92853023e-05  2.07335755e-05]\n",
      " [-4.76806940e-06 -2.69278374e-06]\n",
      " [-2.07968281e-06 -1.14040381e-06]\n",
      " [ 1.18017010e-05  9.57075828e-06]\n",
      " [-4.26497805e-07 -3.06911612e-08]\n",
      " [ 5.35945552e-05  5.27302883e-05]\n",
      " [-3.07267180e-05 -3.09344927e-05]\n",
      " [ 9.19389301e-08  7.89731530e-08]\n",
      " [ 2.56808785e-06  3.16652289e-06]\n",
      " [-7.19691088e-07 -6.38774867e-07]\n",
      " [ 6.36138851e-07  6.13888254e-07]\n",
      " [ 2.56214330e-04  2.86629334e-04]\n",
      " [ 1.23388529e-04  1.19034500e-04]\n",
      " [-9.91721565e-07 -8.39878492e-07]\n",
      " [-5.11553837e-06 -6.59644912e-06]\n",
      " [ 7.80807101e-05  6.88432625e-05]\n",
      " [ 3.86807160e-05  2.16610929e-05]\n",
      " [-1.77181860e-04 -1.66718242e-04]\n",
      " [-1.38233813e-05 -1.56029676e-05]\n",
      " [ 2.77025567e-06  1.96909302e-06]\n",
      " [ 4.00365550e-05  3.93059019e-05]\n",
      " [ 1.68118137e-04  1.66563960e-04]\n",
      " [ 1.62334816e-06  1.97176276e-06]\n",
      " [-9.47350183e-06 -1.43732524e-05]\n",
      " [ 2.52152752e-04  2.79003492e-04]\n",
      " [-1.16068999e-06 -4.58770572e-07]\n",
      " [ 6.86460699e-06  1.04291888e-05]\n",
      " [ 7.01689186e-06  1.22886510e-05]\n",
      " [-1.70001842e-04 -1.57407919e-04]\n",
      " [-2.53370275e-04 -2.47376283e-04]\n",
      " [-7.32766088e-07 -1.55299360e-06]\n",
      " [ 7.55367029e-06  7.97874017e-06]\n",
      " [-1.81081088e-08 -2.63335282e-08]\n",
      " [ 2.16831021e-06  1.71577671e-06]\n",
      " [ 2.06093831e-05  2.33158714e-05]\n",
      " [-1.15054782e-06 -1.07357692e-06]\n",
      " [-1.59755314e-04 -1.59076841e-04]\n",
      " [ 6.25494687e-07  4.67056511e-07]\n",
      " [ 2.10385147e-04  2.00213133e-04]\n",
      " [-1.83615231e-04 -1.95331753e-04]\n",
      " [ 6.58074576e-06  6.66305087e-06]\n",
      " [-9.71431840e-06 -7.06669108e-06]\n",
      " [-6.03659389e-07 -7.08773913e-07]\n",
      " [ 6.78511314e-04  6.67413138e-04]\n",
      " [ 2.56988783e-07  9.35458812e-07]\n",
      " [-8.93455713e-06 -1.01305734e-05]\n",
      " [-1.51960931e-04 -1.59952384e-04]\n",
      " [-9.56361086e-05 -9.44410527e-05]\n",
      " [-5.64861511e-05 -5.45259321e-05]\n",
      " [ 2.74623730e-05  3.28282905e-05]\n",
      " [-1.31405342e-09  4.11678103e-09]\n",
      " [-7.46948671e-05 -6.44080787e-05]\n",
      " [-1.25765309e-04 -1.14965215e-04]\n",
      " [-2.79563895e-07  1.97203244e-07]\n",
      " [-1.00355531e-04 -1.09659409e-04]\n",
      " [-1.38419844e-04 -1.09014335e-04]\n",
      " [-6.55720942e-05 -6.35372951e-05]\n",
      " [-4.37741975e-06 -4.35268071e-06]\n",
      " [-2.99964415e-05 -4.07741723e-05]\n",
      " [ 1.49984216e-04  1.64423819e-04]\n",
      " [-1.72126093e-06  4.50273587e-08]\n",
      " [ 6.72513786e-06  7.02577512e-06]\n",
      " [ 5.01402971e-06  4.62528125e-06]\n",
      " [ 3.13146661e-06  7.09568767e-06]\n",
      " [ 9.60540709e-07  7.49419192e-07]\n",
      " [-6.18979318e-05 -6.47459437e-05]\n",
      " [-2.27552037e-08  2.75842127e-09]\n",
      " [ 7.27624504e-06  1.13145760e-05]\n",
      " [ 1.85116658e-06  1.88706300e-06]\n",
      " [ 1.41190097e-07  2.52015380e-07]\n",
      " [-1.45247773e-07 -8.73270619e-08]\n",
      " [-4.88069199e-05 -5.35530774e-05]\n",
      " [ 4.03289511e-06  5.30597819e-06]\n",
      " [ 1.75567693e-02  1.75666523e-02]\n",
      " [-3.25523832e-05 -2.96180803e-05]\n",
      " [ 2.78198014e-06  2.00647850e-06]\n",
      " [ 1.21553605e-07  3.01709434e-07]\n",
      " [ 6.07621125e-05  5.98307534e-05]\n",
      " [ 1.38202351e-05  1.05284503e-05]\n",
      " [ 3.13901465e-05  3.02343593e-05]\n",
      " [ 7.43928422e-05  8.43473536e-05]\n",
      " [-2.05545833e-04 -2.16548170e-04]\n",
      " [-1.07925246e-05 -1.03195186e-05]\n",
      " [ 5.95523267e-07  3.09031935e-06]\n",
      " [-2.24747619e-06 -2.61814734e-06]\n",
      " [-2.27365774e-05 -2.28318513e-05]\n",
      " [ 2.63714537e-06  2.98855917e-06]\n",
      " [-7.63065735e-06 -7.32921550e-06]\n",
      " [-6.59015523e-06 -7.56708406e-06]\n",
      " [-1.59317196e-05 -1.54619553e-05]\n",
      " [-2.34473330e-06 -1.32142798e-06]\n",
      " [-2.07357816e-05 -1.95507099e-05]\n",
      " [-1.18251787e-07 -1.25229488e-07]\n",
      " [ 1.19982459e-06  1.70226336e-06]\n",
      " [ 3.92997500e-06  3.93074168e-06]]\n"
     ]
    }
   ],
   "source": [
    "print(results['importances'])"
   ]
  },
  {
   "cell_type": "code",
   "execution_count": 21,
   "metadata": {},
   "outputs": [
    {
     "ename": "TypeError",
     "evalue": "sequence item 0: expected str instance, float found",
     "output_type": "error",
     "traceback": [
      "\u001b[0;31m---------------------------------------------------------------------------\u001b[0m",
      "\u001b[0;31mTypeError\u001b[0m                                 Traceback (most recent call last)",
      "Cell \u001b[0;32mIn[21], line 3\u001b[0m\n\u001b[1;32m      1\u001b[0m \u001b[38;5;28;01mwith\u001b[39;00m \u001b[38;5;28mopen\u001b[39m(\u001b[38;5;124m\"\u001b[39m\u001b[38;5;124m./rcd.txt\u001b[39m\u001b[38;5;124m\"\u001b[39m,\u001b[38;5;124m'\u001b[39m\u001b[38;5;124mw\u001b[39m\u001b[38;5;124m'\u001b[39m) \u001b[38;5;28;01mas\u001b[39;00m f:\n\u001b[1;32m      2\u001b[0m     l \u001b[38;5;241m=\u001b[39m results[\u001b[38;5;124m'\u001b[39m\u001b[38;5;124mimportances\u001b[39m\u001b[38;5;124m'\u001b[39m]\u001b[38;5;241m.\u001b[39mflatten()\u001b[38;5;241m.\u001b[39mtolist()\n\u001b[0;32m----> 3\u001b[0m     f\u001b[38;5;241m.\u001b[39mwrite(\u001b[38;5;124;43m\"\u001b[39;49m\u001b[38;5;124;43m,\u001b[39;49m\u001b[38;5;124;43m\"\u001b[39;49m\u001b[38;5;241;43m.\u001b[39;49m\u001b[43mjoin\u001b[49m\u001b[43m(\u001b[49m\u001b[43ml\u001b[49m\u001b[43m)\u001b[49m\u001b[38;5;241m+\u001b[39m\u001b[38;5;124m'\u001b[39m\u001b[38;5;130;01m\\n\u001b[39;00m\u001b[38;5;124m'\u001b[39m)\n",
      "\u001b[0;31mTypeError\u001b[0m: sequence item 0: expected str instance, float found"
     ]
    }
   ],
   "source": [
    "with open(\"./rcd.txt\",'w') as f:\n",
    "    l = results['importances'].flatten()\n",
    "    f.write(\",\".join(l)+'\\n')"
   ]
  },
  {
   "cell_type": "code",
   "execution_count": 28,
   "metadata": {},
   "outputs": [],
   "source": [
    "l = results['importances'].flatten()"
   ]
  },
  {
   "cell_type": "code",
   "execution_count": 15,
   "metadata": {},
   "outputs": [
    {
     "ename": "ValueError",
     "evalue": "All arrays must be of the same length",
     "output_type": "error",
     "traceback": [
      "\u001b[0;31m---------------------------------------------------------------------------\u001b[0m",
      "\u001b[0;31mValueError\u001b[0m                                Traceback (most recent call last)",
      "Cell \u001b[0;32mIn[15], line 2\u001b[0m\n\u001b[1;32m      1\u001b[0m chas \u001b[38;5;241m=\u001b[39m pd\u001b[38;5;241m.\u001b[39mread_table(\u001b[38;5;124m'\u001b[39m\u001b[38;5;124m./chas.txt\u001b[39m\u001b[38;5;124m'\u001b[39m,header\u001b[38;5;241m=\u001b[39m\u001b[38;5;28;01mNone\u001b[39;00m,sep\u001b[38;5;241m=\u001b[39m\u001b[38;5;124m'\u001b[39m\u001b[38;5;124m,\u001b[39m\u001b[38;5;124m'\u001b[39m)\n\u001b[0;32m----> 2\u001b[0m vi \u001b[38;5;241m=\u001b[39m \u001b[43mpd\u001b[49m\u001b[38;5;241;43m.\u001b[39;49m\u001b[43mDataFrame\u001b[49m\u001b[43m(\u001b[49m\u001b[43m{\u001b[49m\u001b[38;5;124;43m'\u001b[39;49m\u001b[38;5;124;43mchas\u001b[39;49m\u001b[38;5;124;43m'\u001b[39;49m\u001b[43m:\u001b[49m\u001b[43mchas\u001b[49m\u001b[38;5;241;43m.\u001b[39;49m\u001b[43mvalues\u001b[49m\u001b[43m[\u001b[49m\u001b[38;5;241;43m0\u001b[39;49m\u001b[43m]\u001b[49m\u001b[43m,\u001b[49m\u001b[38;5;124;43m'\u001b[39;49m\u001b[38;5;124;43mval\u001b[39;49m\u001b[38;5;124;43m'\u001b[39;49m\u001b[43m:\u001b[49m\u001b[43mresults\u001b[49m\u001b[43m[\u001b[49m\u001b[38;5;124;43m'\u001b[39;49m\u001b[38;5;124;43mimportances\u001b[39;49m\u001b[38;5;124;43m'\u001b[39;49m\u001b[43m]\u001b[49m\u001b[38;5;241;43m.\u001b[39;49m\u001b[43mflatten\u001b[49m\u001b[43m(\u001b[49m\u001b[43m)\u001b[49m\u001b[43m}\u001b[49m\u001b[43m)\u001b[49m\n\u001b[1;32m      3\u001b[0m vi\u001b[38;5;241m.\u001b[39mto_csv(\u001b[38;5;124m\"\u001b[39m\u001b[38;5;124mpls_vi.csv\u001b[39m\u001b[38;5;124m\"\u001b[39m,index\u001b[38;5;241m=\u001b[39m\u001b[38;5;28;01mFalse\u001b[39;00m,sep\u001b[38;5;241m=\u001b[39m\u001b[38;5;124m'\u001b[39m\u001b[38;5;124m,\u001b[39m\u001b[38;5;124m'\u001b[39m)\n",
      "File \u001b[0;32m~/anaconda3/envs/pytorch/lib/python3.11/site-packages/pandas/core/frame.py:733\u001b[0m, in \u001b[0;36mDataFrame.__init__\u001b[0;34m(self, data, index, columns, dtype, copy)\u001b[0m\n\u001b[1;32m    727\u001b[0m     mgr \u001b[38;5;241m=\u001b[39m \u001b[38;5;28mself\u001b[39m\u001b[38;5;241m.\u001b[39m_init_mgr(\n\u001b[1;32m    728\u001b[0m         data, axes\u001b[38;5;241m=\u001b[39m{\u001b[38;5;124m\"\u001b[39m\u001b[38;5;124mindex\u001b[39m\u001b[38;5;124m\"\u001b[39m: index, \u001b[38;5;124m\"\u001b[39m\u001b[38;5;124mcolumns\u001b[39m\u001b[38;5;124m\"\u001b[39m: columns}, dtype\u001b[38;5;241m=\u001b[39mdtype, copy\u001b[38;5;241m=\u001b[39mcopy\n\u001b[1;32m    729\u001b[0m     )\n\u001b[1;32m    731\u001b[0m \u001b[38;5;28;01melif\u001b[39;00m \u001b[38;5;28misinstance\u001b[39m(data, \u001b[38;5;28mdict\u001b[39m):\n\u001b[1;32m    732\u001b[0m     \u001b[38;5;66;03m# GH#38939 de facto copy defaults to False only in non-dict cases\u001b[39;00m\n\u001b[0;32m--> 733\u001b[0m     mgr \u001b[38;5;241m=\u001b[39m \u001b[43mdict_to_mgr\u001b[49m\u001b[43m(\u001b[49m\u001b[43mdata\u001b[49m\u001b[43m,\u001b[49m\u001b[43m \u001b[49m\u001b[43mindex\u001b[49m\u001b[43m,\u001b[49m\u001b[43m \u001b[49m\u001b[43mcolumns\u001b[49m\u001b[43m,\u001b[49m\u001b[43m \u001b[49m\u001b[43mdtype\u001b[49m\u001b[38;5;241;43m=\u001b[39;49m\u001b[43mdtype\u001b[49m\u001b[43m,\u001b[49m\u001b[43m \u001b[49m\u001b[43mcopy\u001b[49m\u001b[38;5;241;43m=\u001b[39;49m\u001b[43mcopy\u001b[49m\u001b[43m,\u001b[49m\u001b[43m \u001b[49m\u001b[43mtyp\u001b[49m\u001b[38;5;241;43m=\u001b[39;49m\u001b[43mmanager\u001b[49m\u001b[43m)\u001b[49m\n\u001b[1;32m    734\u001b[0m \u001b[38;5;28;01melif\u001b[39;00m \u001b[38;5;28misinstance\u001b[39m(data, ma\u001b[38;5;241m.\u001b[39mMaskedArray):\n\u001b[1;32m    735\u001b[0m     \u001b[38;5;28;01mfrom\u001b[39;00m \u001b[38;5;21;01mnumpy\u001b[39;00m\u001b[38;5;21;01m.\u001b[39;00m\u001b[38;5;21;01mma\u001b[39;00m \u001b[38;5;28;01mimport\u001b[39;00m mrecords\n",
      "File \u001b[0;32m~/anaconda3/envs/pytorch/lib/python3.11/site-packages/pandas/core/internals/construction.py:503\u001b[0m, in \u001b[0;36mdict_to_mgr\u001b[0;34m(data, index, columns, dtype, typ, copy)\u001b[0m\n\u001b[1;32m    499\u001b[0m     \u001b[38;5;28;01melse\u001b[39;00m:\n\u001b[1;32m    500\u001b[0m         \u001b[38;5;66;03m# dtype check to exclude e.g. range objects, scalars\u001b[39;00m\n\u001b[1;32m    501\u001b[0m         arrays \u001b[38;5;241m=\u001b[39m [x\u001b[38;5;241m.\u001b[39mcopy() \u001b[38;5;28;01mif\u001b[39;00m \u001b[38;5;28mhasattr\u001b[39m(x, \u001b[38;5;124m\"\u001b[39m\u001b[38;5;124mdtype\u001b[39m\u001b[38;5;124m\"\u001b[39m) \u001b[38;5;28;01melse\u001b[39;00m x \u001b[38;5;28;01mfor\u001b[39;00m x \u001b[38;5;129;01min\u001b[39;00m arrays]\n\u001b[0;32m--> 503\u001b[0m \u001b[38;5;28;01mreturn\u001b[39;00m \u001b[43marrays_to_mgr\u001b[49m\u001b[43m(\u001b[49m\u001b[43marrays\u001b[49m\u001b[43m,\u001b[49m\u001b[43m \u001b[49m\u001b[43mcolumns\u001b[49m\u001b[43m,\u001b[49m\u001b[43m \u001b[49m\u001b[43mindex\u001b[49m\u001b[43m,\u001b[49m\u001b[43m \u001b[49m\u001b[43mdtype\u001b[49m\u001b[38;5;241;43m=\u001b[39;49m\u001b[43mdtype\u001b[49m\u001b[43m,\u001b[49m\u001b[43m \u001b[49m\u001b[43mtyp\u001b[49m\u001b[38;5;241;43m=\u001b[39;49m\u001b[43mtyp\u001b[49m\u001b[43m,\u001b[49m\u001b[43m \u001b[49m\u001b[43mconsolidate\u001b[49m\u001b[38;5;241;43m=\u001b[39;49m\u001b[43mcopy\u001b[49m\u001b[43m)\u001b[49m\n",
      "File \u001b[0;32m~/anaconda3/envs/pytorch/lib/python3.11/site-packages/pandas/core/internals/construction.py:114\u001b[0m, in \u001b[0;36marrays_to_mgr\u001b[0;34m(arrays, columns, index, dtype, verify_integrity, typ, consolidate)\u001b[0m\n\u001b[1;32m    111\u001b[0m \u001b[38;5;28;01mif\u001b[39;00m verify_integrity:\n\u001b[1;32m    112\u001b[0m     \u001b[38;5;66;03m# figure out the index, if necessary\u001b[39;00m\n\u001b[1;32m    113\u001b[0m     \u001b[38;5;28;01mif\u001b[39;00m index \u001b[38;5;129;01mis\u001b[39;00m \u001b[38;5;28;01mNone\u001b[39;00m:\n\u001b[0;32m--> 114\u001b[0m         index \u001b[38;5;241m=\u001b[39m \u001b[43m_extract_index\u001b[49m\u001b[43m(\u001b[49m\u001b[43marrays\u001b[49m\u001b[43m)\u001b[49m\n\u001b[1;32m    115\u001b[0m     \u001b[38;5;28;01melse\u001b[39;00m:\n\u001b[1;32m    116\u001b[0m         index \u001b[38;5;241m=\u001b[39m ensure_index(index)\n",
      "File \u001b[0;32m~/anaconda3/envs/pytorch/lib/python3.11/site-packages/pandas/core/internals/construction.py:677\u001b[0m, in \u001b[0;36m_extract_index\u001b[0;34m(data)\u001b[0m\n\u001b[1;32m    675\u001b[0m lengths \u001b[38;5;241m=\u001b[39m \u001b[38;5;28mlist\u001b[39m(\u001b[38;5;28mset\u001b[39m(raw_lengths))\n\u001b[1;32m    676\u001b[0m \u001b[38;5;28;01mif\u001b[39;00m \u001b[38;5;28mlen\u001b[39m(lengths) \u001b[38;5;241m>\u001b[39m \u001b[38;5;241m1\u001b[39m:\n\u001b[0;32m--> 677\u001b[0m     \u001b[38;5;28;01mraise\u001b[39;00m \u001b[38;5;167;01mValueError\u001b[39;00m(\u001b[38;5;124m\"\u001b[39m\u001b[38;5;124mAll arrays must be of the same length\u001b[39m\u001b[38;5;124m\"\u001b[39m)\n\u001b[1;32m    679\u001b[0m \u001b[38;5;28;01mif\u001b[39;00m have_dicts:\n\u001b[1;32m    680\u001b[0m     \u001b[38;5;28;01mraise\u001b[39;00m \u001b[38;5;167;01mValueError\u001b[39;00m(\n\u001b[1;32m    681\u001b[0m         \u001b[38;5;124m\"\u001b[39m\u001b[38;5;124mMixing dicts with non-Series may lead to ambiguous ordering.\u001b[39m\u001b[38;5;124m\"\u001b[39m\n\u001b[1;32m    682\u001b[0m     )\n",
      "\u001b[0;31mValueError\u001b[0m: All arrays must be of the same length"
     ]
    }
   ],
   "source": [
    "chas = pd.read_table('./chas.txt',header=None,sep=',')\n",
    "vi = pd.DataFrame({'chas':chas.values[0],'val':results['importances'].flatten()})\n",
    "vi.to_csv(\"pls_vi.csv\",index=False,sep=',')"
   ]
  },
  {
   "cell_type": "markdown",
   "metadata": {},
   "source": [
    "### Plot the Variable Importance: 20"
   ]
  },
  {
   "cell_type": "code",
   "execution_count": null,
   "metadata": {},
   "outputs": [
    {
     "data": {
      "image/png": "[encoded data removed]",
      "text/plain": [
       "<Figure size 500x300 with 1 Axes>"
      ]
     },
     "metadata": {},
     "output_type": "display_data"
    }
   ],
   "source": [
    "import seaborn as sns\n",
    "pls_vi = pd.read_csv(\"pls_vi.csv\")\n",
    "# delete sic_dummy\n",
    "pls_vi = pls_vi[~pls_vi['chas'].str.contains('dum__')]\n",
    "vi20=pls_vi.sort_values(by=\"val\",ascending=False)[0:20]\n",
    "vi20.to_csv(\"pls_vi_20.csv\",index=False,sep=',')\n",
    "\n",
    "plt.figure(100,figsize=(5,3))\n",
    "ax = sns.barplot(x=vi20['val'],y=vi20['chas'],color='blue')\n",
    "ax.set_title('Variable Importance')\n",
    "plt.tight_layout()"
   ]
  }
 ],
 "metadata": {
  "kernelspec": {
   "display_name": "pytorch",
   "language": "python",
   "name": "python3"
  },
  "language_info": {
   "codemirror_mode": {
    "name": "ipython",
    "version": 3
   },
   "file_extension": ".py",
   "mimetype": "text/x-python",
   "name": "python",
   "nbconvert_exporter": "python",
   "pygments_lexer": "ipython3",
   "version": "3.11.5"
  }
 },
 "nbformat": 4,
 "nbformat_minor": 2
}
